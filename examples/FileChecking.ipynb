{
 "cells": [
  {
   "cell_type": "code",
   "execution_count": 35,
   "id": "handy-panic",
   "metadata": {},
   "outputs": [],
   "source": [
    "import os\n",
    "import pandas as pd\n",
    "import time"
   ]
  },
  {
   "cell_type": "code",
   "execution_count": 36,
   "id": "fourth-excess",
   "metadata": {},
   "outputs": [],
   "source": [
    "def GetCurrentFiles(DataPath, FileType):\n",
    "    \n",
    "    AllFiles = os.listdir(DataPath)\n",
    "\n",
    "    CurrentFiles = []\n",
    "    for file in AllFiles:\n",
    "        if file.endswith(FileType):\n",
    "            CurrentFiles.append(file)\n",
    "    return CurrentFiles"
   ]
  },
  {
   "cell_type": "code",
   "execution_count": 37,
   "id": "psychological-flooring",
   "metadata": {},
   "outputs": [],
   "source": [
    "def AddNewFilesToQueue (DataPath, FileType):\n",
    "    \n",
    "    global FileQueue\n",
    "    global OldFiles\n",
    "    \n",
    "    #First find new files\n",
    "    CurrentFiles = GetCurrentFiles(DataPath, FileType)\n",
    "    NewFiles = set(CurrentFiles) - set(OldFiles)\n",
    "    \n",
    "    #Second update old file list and add new files to queue\n",
    "    OldFiles = CurrentFiles\n",
    "    \n",
    "    if len(NewFiles) != 0:\n",
    "        FileQueue.extend(NewFiles)\n",
    "        print('Found ' + str(len(NewFiles)) + ' new file(s).')\n",
    "    "
   ]
  },
  {
   "cell_type": "code",
   "execution_count": 42,
   "id": "falling-junior",
   "metadata": {},
   "outputs": [],
   "source": [
    "def CheckForNewFiles(DataPath, FileType):\n",
    "    \n",
    "    while 1:\n",
    "        AddNewFilesToQueue(DataPath, FileType)\n",
    "        time.sleep(1)\n",
    "        "
   ]
  },
  {
   "cell_type": "code",
   "execution_count": 43,
   "id": "heated-analyst",
   "metadata": {},
   "outputs": [],
   "source": [
    "DataPath = os.path.join(\"C:\\\\\", \"Users\", \"dpaselti\", \"Desktop\") #Choose path\n",
    "\n",
    "FileType = '.txt' # Specify file type\n",
    "\n",
    "OldFiles = GetCurrentFiles(DataPath, FileType) #Initialize file lists. Find files initially in directory.\n",
    "FileQueue = [] #Store files for analysis here\n",
    "CheckForNewFiles(DataPath, FileType)"
   ]
  },
  {
   "cell_type": "code",
   "execution_count": 45,
   "id": "driving-drunk",
   "metadata": {},
   "outputs": [
    {
     "data": {
      "text/plain": [
       "['test7.txt']"
      ]
     },
     "execution_count": 45,
     "metadata": {},
     "output_type": "execute_result"
    }
   ],
   "source": [
    "FileQueue"
   ]
  }
 ],
 "metadata": {
  "kernelspec": {
   "display_name": "Python 3",
   "language": "python",
   "name": "python3"
  },
  "language_info": {
   "codemirror_mode": {
    "name": "ipython",
    "version": 3
   },
   "file_extension": ".py",
   "mimetype": "text/x-python",
   "name": "python",
   "nbconvert_exporter": "python",
   "pygments_lexer": "ipython3",
   "version": "3.8.5"
  }
 },
 "nbformat": 4,
 "nbformat_minor": 5
}
