{
 "cells": [
  {
   "cell_type": "code",
   "execution_count": 72,
   "id": "handy-panic",
   "metadata": {},
   "outputs": [],
   "source": [
    "import os\n",
    "import pandas as pd\n",
    "import time"
   ]
  },
  {
   "cell_type": "code",
   "execution_count": 61,
   "id": "fourth-excess",
   "metadata": {},
   "outputs": [],
   "source": [
    "def GetCurrentFiles():\n",
    "    \n",
    "    global DataPath\n",
    "    global FileType\n",
    "    \n",
    "    AllFiles = os.listdir(DataPath)\n",
    "\n",
    "    CurrentFiles = []\n",
    "    for file in AllFiles:\n",
    "        if file.endswith(FileType):\n",
    "            CurrentFiles.append(file)\n",
    "    return CurrentFiles"
   ]
  },
  {
   "cell_type": "code",
   "execution_count": 83,
   "id": "psychological-flooring",
   "metadata": {},
   "outputs": [],
   "source": [
    "def AddNewFilesToQueue ():\n",
    "    \n",
    "    global FileQueue\n",
    "    global OldFiles\n",
    "    global DataPath\n",
    "    global FileType\n",
    "    \n",
    "    #First find new files\n",
    "    CurrentFiles = GetCurrentFiles()\n",
    "    NewFiles = list(set(CurrentFiles) - set(OldFiles))\n",
    "    \n",
    "    #Second update old file list and add new files to queue\n",
    "    OldFiles = CurrentFiles\n",
    "    \n",
    "    if len(NewFiles) != 0:\n",
    "        FileQueue.append(NewFiles)\n",
    "        print('Found ' + str(len(NewFiles)) + ' new file(s).')\n",
    "    "
   ]
  },
  {
   "cell_type": "code",
   "execution_count": 84,
   "id": "falling-junior",
   "metadata": {},
   "outputs": [],
   "source": [
    "def CheckForNewFiles():\n",
    "    \n",
    "    global FileSearchStatus\n",
    "    \n",
    "    while FileSearchStatus == 1:\n",
    "        AddNewFilesToQueue()\n",
    "        time.sleep(1)\n",
    "        "
   ]
  },
  {
   "cell_type": "code",
   "execution_count": 85,
   "id": "heated-analyst",
   "metadata": {},
   "outputs": [],
   "source": [
    "DataPath = os.path.join(\"C:\\\\\", \"Users\", \"dpaselti\", \"Desktop\") #Choose path\n",
    "\n",
    "FileType = '.txt' # Specify file type\n",
    "\n",
    "CurrentFiles = GetCurrentFiles() #Initialize file lists\n",
    "OldFiles = CurrentFiles\n",
    "FileQueue = []\n",
    "\n",
    "FileSearchStatus = 1 "
   ]
  },
  {
   "cell_type": "code",
   "execution_count": 86,
   "id": "biological-stage",
   "metadata": {
    "scrolled": false
   },
   "outputs": [
    {
     "name": "stdout",
     "output_type": "stream",
     "text": [
      "Found 1 new file(s).\n"
     ]
    },
    {
     "ename": "KeyboardInterrupt",
     "evalue": "",
     "output_type": "error",
     "traceback": [
      "\u001b[1;31m---------------------------------------------------------------------------\u001b[0m",
      "\u001b[1;31mKeyboardInterrupt\u001b[0m                         Traceback (most recent call last)",
      "\u001b[1;32m<ipython-input-86-38c204489a4f>\u001b[0m in \u001b[0;36m<module>\u001b[1;34m\u001b[0m\n\u001b[1;32m----> 1\u001b[1;33m \u001b[0mCheckForNewFiles\u001b[0m\u001b[1;33m(\u001b[0m\u001b[1;33m)\u001b[0m\u001b[1;33m\u001b[0m\u001b[1;33m\u001b[0m\u001b[0m\n\u001b[0m",
      "\u001b[1;32m<ipython-input-84-eadee0914fa9>\u001b[0m in \u001b[0;36mCheckForNewFiles\u001b[1;34m()\u001b[0m\n\u001b[0;32m      5\u001b[0m     \u001b[1;32mwhile\u001b[0m \u001b[0mFileSearchStatus\u001b[0m \u001b[1;33m==\u001b[0m \u001b[1;36m1\u001b[0m\u001b[1;33m:\u001b[0m\u001b[1;33m\u001b[0m\u001b[1;33m\u001b[0m\u001b[0m\n\u001b[0;32m      6\u001b[0m         \u001b[0mAddNewFilesToQueue\u001b[0m\u001b[1;33m(\u001b[0m\u001b[1;33m)\u001b[0m\u001b[1;33m\u001b[0m\u001b[1;33m\u001b[0m\u001b[0m\n\u001b[1;32m----> 7\u001b[1;33m         \u001b[0mtime\u001b[0m\u001b[1;33m.\u001b[0m\u001b[0msleep\u001b[0m\u001b[1;33m(\u001b[0m\u001b[1;36m1\u001b[0m\u001b[1;33m)\u001b[0m\u001b[1;33m\u001b[0m\u001b[1;33m\u001b[0m\u001b[0m\n\u001b[0m\u001b[0;32m      8\u001b[0m \u001b[1;33m\u001b[0m\u001b[0m\n",
      "\u001b[1;31mKeyboardInterrupt\u001b[0m: "
     ]
    }
   ],
   "source": [
    "CheckForNewFiles()"
   ]
  },
  {
   "cell_type": "code",
   "execution_count": null,
   "id": "imperial-banner",
   "metadata": {},
   "outputs": [],
   "source": [
    "FileSearchStatus = 0"
   ]
  },
  {
   "cell_type": "code",
   "execution_count": 90,
   "id": "otherwise-sharp",
   "metadata": {},
   "outputs": [
    {
     "data": {
      "text/plain": [
       "['test.txt', 'test1.txt', 'test2.txt', 'test3.txt']"
      ]
     },
     "execution_count": 90,
     "metadata": {},
     "output_type": "execute_result"
    }
   ],
   "source": [
    "OldFiles"
   ]
  },
  {
   "cell_type": "code",
   "execution_count": 87,
   "id": "valid-geometry",
   "metadata": {},
   "outputs": [
    {
     "data": {
      "text/plain": [
       "[['test3.txt']]"
      ]
     },
     "execution_count": 87,
     "metadata": {},
     "output_type": "execute_result"
    }
   ],
   "source": [
    "FileQueue"
   ]
  }
 ],
 "metadata": {
  "kernelspec": {
   "display_name": "Python 3",
   "language": "python",
   "name": "python3"
  },
  "language_info": {
   "codemirror_mode": {
    "name": "ipython",
    "version": 3
   },
   "file_extension": ".py",
   "mimetype": "text/x-python",
   "name": "python",
   "nbconvert_exporter": "python",
   "pygments_lexer": "ipython3",
   "version": "3.8.5"
  }
 },
 "nbformat": 4,
 "nbformat_minor": 5
}
