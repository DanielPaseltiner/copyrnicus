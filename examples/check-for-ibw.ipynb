{
 "cells": [
  {
   "cell_type": "code",
   "execution_count": 1,
   "metadata": {},
   "outputs": [
    {
     "name": "stderr",
     "output_type": "stream",
     "text": [
      "/opt/conda/lib/python3.7/site-packages/airspeed/__init__.py:505: FutureWarning: Possible nested set at position 8\n",
      "  KEYVALSEP = re.compile(r'[ \\t]*:[[ \\t]*(.*)$', re.S)\n"
     ]
    },
    {
     "name": "stdout",
     "output_type": "stream",
     "text": [
      "Could not load NEURONBackend\n"
     ]
    }
   ],
   "source": [
    "import copernicus as cop"
   ]
  },
  {
   "cell_type": "code",
   "execution_count": 2,
   "metadata": {},
   "outputs": [
    {
     "data": {
      "text/plain": [
       "1578587897.218327"
      ]
     },
     "execution_count": 2,
     "metadata": {},
     "output_type": "execute_result"
    }
   ],
   "source": [
    "cop.check_path_mod_time('/home/rgerkin/Copernicus/data', extensions=['.ibw'])"
   ]
  },
  {
   "cell_type": "code",
   "execution_count": 3,
   "metadata": {},
   "outputs": [
    {
     "name": "stdout",
     "output_type": "stream",
     "text": [
      "New file found.\n",
      "New file found.\n",
      "New file found.\n"
     ]
    }
   ],
   "source": [
    "monitor = cop.get_path_monitor('/home/rgerkin/Copernicus/data', extensions=['.ibw'])"
   ]
  },
  {
   "cell_type": "code",
   "execution_count": 5,
   "metadata": {},
   "outputs": [
    {
     "name": "stdout",
     "output_type": "stream",
     "text": [
      "File /home/rgerkin/Copernicus/data/untitled2.ibw modified\n",
      "File /home/rgerkin/Copernicus/data/crap.ibw modified\n",
      "File /home/rgerkin/Copernicus/data/ExportedDorsoventralData modified\n",
      "File /home/rgerkin/Copernicus/data/AA_IDRest_Ch0_108.ibw modified\n",
      "File /home/rgerkin/Copernicus/data/.ipynb_checkpoints modified\n"
     ]
    }
   ],
   "source": [
    "monitor.stop()"
   ]
  }
 ],
 "metadata": {
  "kernelspec": {
   "display_name": "Python 3",
   "language": "python",
   "name": "python3"
  },
  "language_info": {
   "codemirror_mode": {
    "name": "ipython",
    "version": 3
   },
   "file_extension": ".py",
   "mimetype": "text/x-python",
   "name": "python",
   "nbconvert_exporter": "python",
   "pygments_lexer": "ipython3",
   "version": "3.7.4"
  }
 },
 "nbformat": 4,
 "nbformat_minor": 4
}
